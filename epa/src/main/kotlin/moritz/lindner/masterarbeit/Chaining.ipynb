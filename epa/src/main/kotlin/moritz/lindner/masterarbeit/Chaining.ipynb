{
 "cells": [
  {
   "metadata": {
    "collapsed": true,
    "ExecuteTime": {
     "end_time": "2025-09-23T17:41:11.286784Z",
     "start_time": "2025-09-23T17:41:10.989929Z"
    }
   },
   "cell_type": "code",
   "source": [
    "import moritz.lindner.masterarbeit.epa.construction.builder.ExtendedPrefixAutomatonBuilder\n",
    "import moritz.lindner.masterarbeit.epa.construction.builder.SampleEventMapper\n",
    "import moritz.lindner.masterarbeit.epa.*\n",
    "import moritz.lindner.masterarbeit.epa.domain.*\n",
    "import java.io.File\n",
    "\n",
    "val epa = ExtendedPrefixAutomatonBuilder<Long>()\n",
    "        .setFile(File(\"/Users/moritzlindner/programming/Masterarbeit/epa-visualizer/epa/src/test/resources/simple.xes\"))\n",
    "        .setEventLogMapper(SampleEventMapper())\n",
    "        .build()\n",
    "\n",
    "epa"
   ],
   "outputs": [
    {
     "data": {
      "text/plain": [
       "simple.xes\n",
       "j,i,root,a,f,d,e,h,c,b,g\n",
       "a,b,c,d,e,f,g,h,i,j\n",
       "Transition(start=d, activity=g, end=g),Transition(start=e, activity=h, end=h),Transition(start=b, activity=d, end=d),Transition(start=c, activity=e, end=e),Transition(start=c, activity=f, end=f),Transition(start=root, activity=a, end=a),Transition(start=a, activity=b, end=b),Transition(start=a, activity=c, end=c),Transition(start=h, activity=i, end=i),Transition(start=h, activity=j, end=j)\n",
       "j:4,i:2,root:0,a:1,f:3,d:1,e:2,h:2,c:2,b:1,g:1\n",
       "j:Event(activity=j, timestamp=1745625840000, caseIdentifier=3, predecessor=Event(activity=h, timestamp=1745625780000, caseIdentifier=3, predecessor=null)),i:Event(activity=i, timestamp=1745625840000, caseIdentifier=2, predecessor=Event(activity=h, timestamp=1745625780000, caseIdentifier=2, predecessor=null)),a:Event(activity=a, timestamp=1745625600000, caseIdentifier=1, predecessor=null),Event(activity=a, timestamp=1745625600000, caseIdentifier=2, predecessor=null),Event(activity=a, timestamp=1745625600000, caseIdentifier=3, predecessor=null),Event(activity=a, timestamp=1745625600000, caseIdentifier=4, predecessor=null),root:,f:Event(activity=f, timestamp=1745625720000, caseIdentifier=4, predecessor=Event(activity=c, timestamp=1745625660000, caseIdentifier=4, predecessor=null)),e:Event(activity=e, timestamp=1745625720000, caseIdentifier=2, predecessor=Event(activity=c, timestamp=1745625660000, caseIdentifier=2, predecessor=null)),Event(activity=e, timestamp=1745625720000, caseIdentifier=3, predecessor=Event(activity=c, timestamp=1745625660000, caseIdentifier=3, predecessor=null)),d:Event(activity=d, timestamp=1745625720000, caseIdentifier=1, predecessor=Event(activity=b, timestamp=1745625660000, caseIdentifier=1, predecessor=null)),h:Event(activity=h, timestamp=1745625780000, caseIdentifier=2, predecessor=Event(activity=e, timestamp=1745625720000, caseIdentifier=2, predecessor=null)),Event(activity=h, timestamp=1745625780000, caseIdentifier=3, predecessor=Event(activity=e, timestamp=1745625720000, caseIdentifier=3, predecessor=null)),c:Event(activity=c, timestamp=1745625660000, caseIdentifier=2, predecessor=Event(activity=a, timestamp=1745625600000, caseIdentifier=2, predecessor=null)),Event(activity=c, timestamp=1745625660000, caseIdentifier=3, predecessor=Event(activity=a, timestamp=1745625600000, caseIdentifier=3, predecessor=null)),Event(activity=c, timestamp=1745625660000, caseIdentifier=4, predecessor=Event(activity=a, timestamp=1745625600000, caseIdentifier=4, predecessor=null)),g:Event(activity=g, timestamp=1745625780000, caseIdentifier=1, predecessor=Event(activity=d, timestamp=1745625720000, caseIdentifier=1, predecessor=null)),b:Event(activity=b, timestamp=1745625660000, caseIdentifier=1, predecessor=Event(activity=a, timestamp=1745625600000, caseIdentifier=1, predecessor=null))\n"
      ]
     },
     "execution_count": 2,
     "metadata": {},
     "output_type": "execute_result"
    }
   ],
   "execution_count": 2
  },
  {
   "metadata": {
    "ExecuteTime": {
     "end_time": "2025-09-23T18:18:45.971852Z",
     "start_time": "2025-09-23T18:18:45.865494Z"
    }
   },
   "cell_type": "code",
   "source": [
    "data class StateTransition(\n",
    "    val parent: State,\n",
    "    val state: State,\n",
    "    val children: List<State>,\n",
    "    val single: Boolean,\n",
    ")\n",
    "\n",
    "data class SyntheticState(\n",
    "    val chain: List<State>,\n",
    "    val newState: State,\n",
    "    val children: List<State>,\n",
    "    val parent: State,\n",
    "    val seq: Set<Event<Long>>,\n",
    "    val par: Int,\n",
    ")\n",
    "\n",
    "data class ChainInformation(\n",
    "    val chain: List<State>,\n",
    "    var parent: State,\n",
    "    var children: List<State>\n",
    ") {\n",
    "    fun toSynthetic(extendedPrefixAutomaton: ExtendedPrefixAutomaton<Long>): SyntheticState {\n",
    "        return SyntheticState(\n",
    "            chain = chain,\n",
    "            parent = parent,\n",
    "            newState = chain.reduce { a, b ->\n",
    "                State.PrefixState(\n",
    "                    from = (a as State.PrefixState).from,\n",
    "                    via = chain.fold(Activity(\"\")) { a, b ->\n",
    "                        Activity(a.name + (b as State.PrefixState).name)\n",
    "                    }\n",
    "                )\n",
    "            },\n",
    "            children = children,\n",
    "            seq = chain.fold(emptySet()) { a, b -> a + epa.sequence(b) },\n",
    "            par = epa.partition(chain.first()),\n",
    "        )\n",
    "    }\n",
    "}"
   ],
   "outputs": [],
   "execution_count": 57
  },
  {
   "metadata": {
    "ExecuteTime": {
     "end_time": "2025-09-23T17:56:58.848247Z",
     "start_time": "2025-09-23T17:56:58.802847Z"
    }
   },
   "cell_type": "code",
   "source": [
    "val childrenByParent = epa.transitions.groupBy { it.start }.mapValues { it.value.map { it.end } }\n",
    "childrenByParent"
   ],
   "outputs": [
    {
     "data": {
      "text/plain": [
       "{d=[g], e=[h], b=[d], c=[e, f], root=[a], a=[b, c], h=[i, j]}"
      ]
     },
     "execution_count": 39,
     "metadata": {},
     "output_type": "execute_result"
    }
   ],
   "execution_count": 39
  },
  {
   "metadata": {
    "ExecuteTime": {
     "end_time": "2025-09-23T17:57:00.088197Z",
     "start_time": "2025-09-23T17:57:00.035035Z"
    }
   },
   "cell_type": "code",
   "source": [
    "val parentByChild = epa.transitions.groupBy { it.end }.mapValues { it.value.map { it.start }.first() }\n",
    "parentByChild"
   ],
   "outputs": [
    {
     "data": {
      "text/plain": [
       "{g=d, h=e, d=b, e=c, f=c, a=root, b=a, c=a, i=h, j=h}"
      ]
     },
     "execution_count": 40,
     "metadata": {},
     "output_type": "execute_result"
    }
   ],
   "execution_count": 40
  },
  {
   "metadata": {
    "ExecuteTime": {
     "end_time": "2025-09-23T17:57:01.069306Z",
     "start_time": "2025-09-23T17:57:01.022159Z"
    }
   },
   "cell_type": "code",
   "source": [
    "val childrenByParentWithOneChildren = childrenByParent.filterValues { it.size == 1 }.filterKeys { it as? State.PrefixState != null }.mapValues { it.value.first() as State.PrefixState }\n",
    "childrenByParentWithOneChildren"
   ],
   "outputs": [
    {
     "data": {
      "text/plain": [
       "{d=g, e=h, b=d}"
      ]
     },
     "execution_count": 41,
     "metadata": {},
     "output_type": "execute_result"
    }
   ],
   "execution_count": 41
  },
  {
   "metadata": {
    "ExecuteTime": {
     "end_time": "2025-09-23T18:18:49.831005Z",
     "start_time": "2025-09-23T18:18:49.781019Z"
    }
   },
   "cell_type": "code",
   "source": [
    "val stateTransitions = epa.states.mapNotNull { state ->\n",
    "    val children = childrenByParent[state] ?: emptyList()\n",
    "    StateTransition(\n",
    "        parent = parentByChild[state] ?: return@mapNotNull null,\n",
    "        state = state,\n",
    "        children = children,\n",
    "        single = children.size == 1\n",
    "    )\n",
    "}\n",
    "stateTransitions"
   ],
   "outputs": [
    {
     "data": {
      "text/plain": [
       "[StateTransition(parent=h, state=j, children=[], single=false), StateTransition(parent=h, state=i, children=[], single=false), StateTransition(parent=root, state=a, children=[b, c], single=false), StateTransition(parent=c, state=f, children=[], single=false), StateTransition(parent=b, state=d, children=[g], single=true), StateTransition(parent=c, state=e, children=[h], single=true), StateTransition(parent=e, state=h, children=[i, j], single=false), StateTransition(parent=a, state=c, children=[e, f], single=false), StateTransition(parent=a, state=b, children=[d], single=true), StateTransition(parent=d, state=g, children=[], single=false)]"
      ]
     },
     "execution_count": 58,
     "metadata": {},
     "output_type": "execute_result"
    }
   ],
   "execution_count": 58
  },
  {
   "metadata": {
    "ExecuteTime": {
     "end_time": "2025-09-23T18:18:52.288839Z",
     "start_time": "2025-09-23T18:18:52.231660Z"
    }
   },
   "cell_type": "code",
   "source": [
    "fun followChain(a: State, mappings: Map<State, List<State>>, acc: List<State>): List<State> {\n",
    "    if (mappings[a] != null) {\n",
    "        val n = mappings[a]!!.first()\n",
    "        return if (mappings[a]!!.size == 1) followChain(n, mappings, acc + n)\n",
    "        else acc\n",
    "    } else return acc\n",
    "}\n",
    "\n",
    "fun filterLongestChains(chains: List<ChainInformation>): List<ChainInformation> {\n",
    "    return chains.filter { candidate ->\n",
    "        chains.none { other ->\n",
    "            other != candidate && isSubchain(candidate.chain, other.chain)\n",
    "        }\n",
    "    }\n",
    "}\n",
    "\n",
    "private fun isSubchain(subChain: List<State>, mainChain: List<State>): Boolean {\n",
    "    if (subChain.size >= mainChain.size) return false\n",
    "\n",
    "    // Check if subChain appears as a contiguous subsequence in mainChain\n",
    "    for (i in 0..mainChain.size - subChain.size) {\n",
    "        if (mainChain.subList(i, i + subChain.size) == subChain) {\n",
    "            return true\n",
    "        }\n",
    "    }\n",
    "    return false\n",
    "}"
   ],
   "outputs": [],
   "execution_count": 59
  },
  {
   "metadata": {
    "ExecuteTime": {
     "end_time": "2025-09-23T18:18:55.806683Z",
     "start_time": "2025-09-23T18:18:55.737978Z"
    }
   },
   "cell_type": "code",
   "source": [
    "fun buildChains(): List<ChainInformation> {\n",
    "    return filterLongestChains(\n",
    "        stateTransitions\n",
    "        .filter { it.single }\n",
    "        .map { stateTransition ->\n",
    "            ChainInformation(\n",
    "                chain = listOf(stateTransition.state) + followChain(\n",
    "                    stateTransition.state,\n",
    "                    childrenByParent,\n",
    "                    emptyList()\n",
    "                ),\n",
    "                parent = stateTransition.parent,\n",
    "                children = stateTransition.children,\n",
    "            )\n",
    "        }\n",
    "    )\n",
    "}\n",
    "\n",
    "val chainInformation = buildChains()\n",
    "chainInformation"
   ],
   "outputs": [
    {
     "data": {
      "text/plain": [
       "[ChainInformation(chain=[e, h], parent=c, children=[h]), ChainInformation(chain=[b, d, g], parent=a, children=[d])]"
      ]
     },
     "execution_count": 60,
     "metadata": {},
     "output_type": "execute_result"
    }
   ],
   "execution_count": 60
  },
  {
   "metadata": {
    "ExecuteTime": {
     "end_time": "2025-09-23T18:26:16.576753Z",
     "start_time": "2025-09-23T18:26:16.444547Z"
    }
   },
   "cell_type": "code",
   "source": [
    "val synthetics = chainInformation.map { it.toSynthetic(epa) }\n",
    "synthetics"
   ],
   "outputs": [
    {
     "data": {
      "text/plain": [
       "[SyntheticState(chain=[e, h], newState=eh, children=[h], parent=c, seq=[Event(activity=e, timestamp=1745625720000, caseIdentifier=2, predecessor=Event(activity=c, timestamp=1745625660000, caseIdentifier=2, predecessor=null)), Event(activity=e, timestamp=1745625720000, caseIdentifier=3, predecessor=Event(activity=c, timestamp=1745625660000, caseIdentifier=3, predecessor=null)), Event(activity=h, timestamp=1745625780000, caseIdentifier=2, predecessor=Event(activity=e, timestamp=1745625720000, caseIdentifier=2, predecessor=null)), Event(activity=h, timestamp=1745625780000, caseIdentifier=3, predecessor=Event(activity=e, timestamp=1745625720000, caseIdentifier=3, predecessor=null))], par=2), SyntheticState(chain=[b, d, g], newState=bdg, children=[d], parent=a, seq=[Event(activity=b, timestamp=1745625660000, caseIdentifier=1, predecessor=Event(activity=a, timestamp=1745625600000, caseIdentifier=1, predecessor=null)), Event(activity=d, timestamp=1745625720000, caseIdentifier=1, predecessor=Event(activity=b, timestamp=1745625660000, caseIdentifier=1, predecessor=null)), Event(activity=g, timestamp=1745625780000, caseIdentifier=1, predecessor=Event(activity=d, timestamp=1745625720000, caseIdentifier=1, predecessor=null))], par=1)]"
      ]
     },
     "execution_count": 64,
     "metadata": {},
     "output_type": "execute_result"
    }
   ],
   "execution_count": 64
  },
  {
   "metadata": {
    "ExecuteTime": {
     "end_time": "2025-09-23T19:04:26.035672Z",
     "start_time": "2025-09-23T19:04:25.974363Z"
    }
   },
   "cell_type": "code",
   "source": "synthetics.ma",
   "outputs": [
    {
     "data": {
      "text/plain": [
       "{g=d, h=e, d=b, e=c, f=c, a=root, b=a, c=a, i=h, j=h}"
      ]
     },
     "execution_count": 98,
     "metadata": {},
     "output_type": "execute_result"
    }
   ],
   "execution_count": 98
  },
  {
   "metadata": {
    "ExecuteTime": {
     "end_time": "2025-09-23T18:38:55.691085Z",
     "start_time": "2025-09-23T18:38:55.637442Z"
    }
   },
   "cell_type": "code",
   "source": [
    "val oldToNewStateMap = mutableMapOf<State, State>()\n",
    "synthetics.forEach { synthetic ->\n",
    "    synthetic.chain.forEach { oldState ->\n",
    "        oldToNewStateMap[oldState] = synthetic.newState\n",
    "    }\n",
    "}\n",
    "oldToNewStateMap"
   ],
   "outputs": [
    {
     "data": {
      "text/plain": [
       "{e=eh, h=eh, b=bdg, d=bdg, g=bdg}"
      ]
     },
     "execution_count": 66,
     "metadata": {},
     "output_type": "execute_result"
    }
   ],
   "execution_count": 66
  },
  {
   "metadata": {
    "ExecuteTime": {
     "end_time": "2025-09-23T18:45:32.452265Z",
     "start_time": "2025-09-23T18:45:32.410141Z"
    }
   },
   "cell_type": "code",
   "source": [
    "val statesInChains = synthetics.flatMap { it.chain }.toSet()\n",
    "statesInChains"
   ],
   "outputs": [
    {
     "data": {
      "text/plain": [
       "[e, h, b, d, g]"
      ]
     },
     "execution_count": 77,
     "metadata": {},
     "output_type": "execute_result"
    }
   ],
   "execution_count": 77
  },
  {
   "metadata": {
    "ExecuteTime": {
     "end_time": "2025-09-23T18:50:49.776934Z",
     "start_time": "2025-09-23T18:50:49.667615Z"
    }
   },
   "cell_type": "code",
   "source": [
    "// Build new states set\n",
    "val newStates = mutableSetOf<State>()\n",
    "\n",
    "// Add states not in chains\n",
    "epa.states.filter { it !in statesInChains }.forEach { state ->\n",
    "    newStates.add(state)\n",
    "}\n",
    "\n",
    "newStates"
   ],
   "outputs": [
    {
     "data": {
      "text/plain": [
       "[j, i, root, a, f, c]"
      ]
     },
     "execution_count": 97,
     "metadata": {},
     "output_type": "execute_result"
    }
   ],
   "execution_count": 97
  },
  {
   "metadata": {
    "ExecuteTime": {
     "end_time": "2025-09-23T18:49:15.582324Z",
     "start_time": "2025-09-23T18:49:15.546433Z"
    }
   },
   "cell_type": "code",
   "source": [
    "\n",
    "// Add synthetic states\n",
    "synthetics.forEach { synthetic ->\n",
    "    newStates.add(synthetic.newState)\n",
    "}\n",
    "\n",
    "newStates"
   ],
   "outputs": [
    {
     "data": {
      "text/plain": [
       "[j, i, root, a, f, c, eh, bdg]"
      ]
     },
     "execution_count": 95,
     "metadata": {},
     "output_type": "execute_result"
    }
   ],
   "execution_count": 95
  },
  {
   "metadata": {
    "ExecuteTime": {
     "end_time": "2025-09-23T18:49:17.333263Z",
     "start_time": "2025-09-23T18:49:17.252355Z"
    }
   },
   "cell_type": "code",
   "source": [
    "// Update children's .from references\n",
    "// Create set of states that will become synthetic\n",
    "val statesThatBecomeSynthetic = synthetics.map { it.chain }.flatten().toSet()\n",
    "\n",
    "synthetics.forEach { synthetic ->\n",
    "    synthetic.children.forEach { child ->\n",
    "        if (child is State.PrefixState && child !in statesThatBecomeSynthetic) {\n",
    "            val updatedChild = State.PrefixState(\n",
    "                from = synthetic.newState,\n",
    "                via = child.via\n",
    "            )\n",
    "            newStates.add(updatedChild)\n",
    "            oldToNewStateMap[child] = updatedChild\n",
    "        }\n",
    "    }\n",
    "}\n",
    "newStates.map { it to (it as? State.PrefixState)?.from }"
   ],
   "outputs": [
    {
     "data": {
      "text/plain": [
       "[(j, h), (i, h), (root, null), (a, root), (f, c), (c, a), (eh, c), (bdg, a)]"
      ]
     },
     "execution_count": 96,
     "metadata": {},
     "output_type": "execute_result"
    }
   ],
   "execution_count": 96
  },
  {
   "metadata": {
    "ExecuteTime": {
     "end_time": "2025-09-23T15:00:36.922923Z",
     "start_time": "2025-09-23T15:00:36.892554Z"
    }
   },
   "cell_type": "code",
   "source": [
    "val preActivities = epa.activities\n",
    "preActivities"
   ],
   "outputs": [
    {
     "data": {
      "text/plain": [
       "[a, b, c, d, e, f, g, h, i, j]"
      ]
     },
     "execution_count": 190,
     "metadata": {},
     "output_type": "execute_result"
    }
   ],
   "execution_count": 190
  },
  {
   "metadata": {
    "ExecuteTime": {
     "end_time": "2025-09-23T15:00:38.851281Z",
     "start_time": "2025-09-23T15:00:38.819155Z"
    }
   },
   "cell_type": "code",
   "source": [
    "val preSeqByState = preStates.associateWith { epa.sequence(it) }\n",
    "preSeqByState"
   ],
   "outputs": [
    {
     "data": {
      "text/plain": [
       "{j=[Event(activity=j, timestamp=1745625840000, caseIdentifier=3, predecessor=Event(activity=h, timestamp=1745625780000, caseIdentifier=3, predecessor=null))], i=[Event(activity=i, timestamp=1745625840000, caseIdentifier=2, predecessor=Event(activity=h, timestamp=1745625780000, caseIdentifier=2, predecessor=null))], root=[], a=[Event(activity=a, timestamp=1745625600000, caseIdentifier=1, predecessor=null), Event(activity=a, timestamp=1745625600000, caseIdentifier=2, predecessor=null), Event(activity=a, timestamp=1745625600000, caseIdentifier=3, predecessor=null), Event(activity=a, timestamp=1745625600000, caseIdentifier=4, predecessor=null)], f=[Event(activity=f, timestamp=1745625720000, caseIdentifier=4, predecessor=Event(activity=c, timestamp=1745625660000, caseIdentifier=4, predecessor=null))], h=[Event(activity=h, timestamp=1745625780000, caseIdentifier=2, predecessor=Event(activity=e, timestamp=1745625720000, caseIdentifier=2, predecessor=null)), Event(activity=h, timestamp=1745625780000, caseIdentifier=3, predecessor=Event(activity=e, timestamp=1745625720000, caseIdentifier=3, predecessor=null))], c=[Event(activity=c, timestamp=1745625660000, caseIdentifier=2, predecessor=Event(activity=a, timestamp=1745625600000, caseIdentifier=2, predecessor=null)), Event(activity=c, timestamp=1745625660000, caseIdentifier=3, predecessor=Event(activity=a, timestamp=1745625600000, caseIdentifier=3, predecessor=null)), Event(activity=c, timestamp=1745625660000, caseIdentifier=4, predecessor=Event(activity=a, timestamp=1745625600000, caseIdentifier=4, predecessor=null))], g=[Event(activity=g, timestamp=1745625780000, caseIdentifier=1, predecessor=Event(activity=d, timestamp=1745625720000, caseIdentifier=1, predecessor=null))]}"
      ]
     },
     "execution_count": 191,
     "metadata": {},
     "output_type": "execute_result"
    }
   ],
   "execution_count": 191
  },
  {
   "metadata": {
    "ExecuteTime": {
     "end_time": "2025-09-23T15:00:43.460732Z",
     "start_time": "2025-09-23T15:00:43.359706Z"
    }
   },
   "cell_type": "code",
   "source": "",
   "outputs": [
    {
     "data": {
      "text/plain": [
       "[[e, h], [b, d, g]]"
      ]
     },
     "execution_count": 192,
     "metadata": {},
     "output_type": "execute_result"
    }
   ],
   "execution_count": 192
  },
  {
   "metadata": {
    "ExecuteTime": {
     "end_time": "2025-09-23T15:00:47.137496Z",
     "start_time": "2025-09-23T15:00:47.044556Z"
    }
   },
   "cell_type": "code",
   "source": [
    "val activityByChain = chains.associateWith { chain ->\n",
    "    chain.fold(Activity(\"\")) { a, b ->\n",
    "        Activity(a.name + (b as State.PrefixState).name)\n",
    "    }\n",
    "}\n",
    "activityByChain"
   ],
   "outputs": [
    {
     "data": {
      "text/plain": [
       "{[e, h]=eh, [b, d, g]=bdg}"
      ]
     },
     "execution_count": 193,
     "metadata": {},
     "output_type": "execute_result"
    }
   ],
   "execution_count": 193
  },
  {
   "metadata": {
    "ExecuteTime": {
     "end_time": "2025-09-23T15:00:52.321028Z",
     "start_time": "2025-09-23T15:00:52.287130Z"
    }
   },
   "cell_type": "code",
   "source": [
    "val newActivities = preActivities + activityByChain.values\n",
    "newActivities"
   ],
   "outputs": [
    {
     "data": {
      "text/plain": [
       "[a, b, c, d, e, f, g, h, i, j, eh, bdg]"
      ]
     },
     "execution_count": 194,
     "metadata": {},
     "output_type": "execute_result"
    }
   ],
   "execution_count": 194
  },
  {
   "metadata": {
    "ExecuteTime": {
     "end_time": "2025-09-23T15:00:57.352537Z",
     "start_time": "2025-09-23T15:00:57.290483Z"
    }
   },
   "cell_type": "code",
   "source": [
    "val syntheticStateByChain = chains.associateWith { chain ->\n",
    "    chain.reduce { a, b ->\n",
    "        State.PrefixState(\n",
    "            from = (a as State.PrefixState).from,\n",
    "            via = activityByChain[chain]!!\n",
    "        )\n",
    "    }\n",
    "}\n",
    "syntheticStateByChain"
   ],
   "outputs": [
    {
     "data": {
      "text/plain": [
       "{[e, h]=eh, [b, d, g]=bdg}"
      ]
     },
     "execution_count": 195,
     "metadata": {},
     "output_type": "execute_result"
    }
   ],
   "execution_count": 195
  },
  {
   "metadata": {
    "ExecuteTime": {
     "end_time": "2025-09-23T15:01:02.663871Z",
     "start_time": "2025-09-23T15:01:02.606772Z"
    }
   },
   "cell_type": "code",
   "source": [
    "val synthetics = syntheticStateByChain.values\n",
    "synthetics"
   ],
   "outputs": [
    {
     "data": {
      "text/plain": [
       "[eh, bdg]"
      ]
     },
     "execution_count": 196,
     "metadata": {},
     "output_type": "execute_result"
    }
   ],
   "execution_count": 196
  },
  {
   "metadata": {
    "ExecuteTime": {
     "end_time": "2025-09-23T15:06:30.379242Z",
     "start_time": "2025-09-23T15:06:30.128542Z"
    }
   },
   "cell_type": "code",
   "source": [
    "val childrenBySynthetic = chains.associateWith { chain ->\n",
    "    val last = chain.last()\n",
    "    val targets = (childrenByParent[last] ?: emptyList())\n",
    "\n",
    "    targets.map { target ->\n",
    "        // if target is synthetic\n",
    "        if (chains.flatten().contains(target)) {\n",
    "            println(\"yes\")\n",
    "            val newFrom = syntheticByChainparts[target]!!\n",
    "            println(\"newFrom for $target is $newFrom\")\n",
    "            newFrom\n",
    "        } else State.PrefixState(\n",
    "            from = syntheticStateByChain[chain]!!,\n",
    "            via = (target as State.PrefixState).via\n",
    "        )\n",
    "    }\n",
    "}.mapKeys { syntheticStateByChain[it.key]!! }"
   ],
   "outputs": [
    {
     "data": {
      "text/plain": [
       "[[eh, eh], []]"
      ]
     },
     "execution_count": 206,
     "metadata": {},
     "output_type": "execute_result"
    }
   ],
   "execution_count": 206
  },
  {
   "metadata": {
    "ExecuteTime": {
     "end_time": "2025-09-23T14:09:32.785010Z",
     "start_time": "2025-09-23T14:09:32.698966Z"
    }
   },
   "cell_type": "code",
   "source": [
    "import moritz.lindner.masterarbeit.epa.domain.Event\n",
    "\n",
    "val seqByChain = chains.associateWith { chain ->\n",
    "    chain.fold(emptyList<Event<Long>>()) { acc, state ->\n",
    "        acc + epa.sequence(state)\n",
    "    }\n",
    "}\n",
    "seqByChain.mapKeys { syntheticStateByChain[it.key] }"
   ],
   "outputs": [
    {
     "data": {
      "text/plain": [
       "{fe=[Event(activity=f, timestamp=1745629440000, caseIdentifier=2, predecessor=Event(activity=d, timestamp=1745629380000, caseIdentifier=2, predecessor=null)), Event(activity=e, timestamp=1745629500000, caseIdentifier=2, predecessor=Event(activity=f, timestamp=1745629440000, caseIdentifier=2, predecessor=null))], bcd=[Event(activity=b, timestamp=1745625660000, caseIdentifier=1, predecessor=Event(activity=a, timestamp=1745625600000, caseIdentifier=1, predecessor=null)), Event(activity=b, timestamp=1745636460000, caseIdentifier=4, predecessor=Event(activity=a, timestamp=1745636400000, caseIdentifier=4, predecessor=null)), Event(activity=c, timestamp=1745625720000, caseIdentifier=1, predecessor=Event(activity=b, timestamp=1745625660000, caseIdentifier=1, predecessor=null)), Event(activity=c, timestamp=1745636520000, caseIdentifier=4, predecessor=Event(activity=b, timestamp=1745636460000, caseIdentifier=4, predecessor=null)), Event(activity=d, timestamp=1745625780000, caseIdentifier=1, predecessor=Event(activity=c, timestamp=1745625720000, caseIdentifier=1, predecessor=null)), Event(activity=d, timestamp=1745636580000, caseIdentifier=4, predecessor=Event(activity=c, timestamp=1745636520000, caseIdentifier=4, predecessor=null))], cbd=[Event(activity=c, timestamp=1745629260000, caseIdentifier=2, predecessor=Event(activity=a, timestamp=1745629200000, caseIdentifier=2, predecessor=null)), Event(activity=c, timestamp=1745632860000, caseIdentifier=3, predecessor=Event(activity=a, timestamp=1745632800000, caseIdentifier=3, predecessor=null)), Event(activity=b, timestamp=1745629320000, caseIdentifier=2, predecessor=Event(activity=c, timestamp=1745629260000, caseIdentifier=2, predecessor=null)), Event(activity=b, timestamp=1745632920000, caseIdentifier=3, predecessor=Event(activity=c, timestamp=1745632860000, caseIdentifier=3, predecessor=null)), Event(activity=d, timestamp=1745629380000, caseIdentifier=2, predecessor=Event(activity=b, timestamp=1745629320000, caseIdentifier=2, predecessor=null)), Event(activity=d, timestamp=1745632980000, caseIdentifier=3, predecessor=Event(activity=b, timestamp=1745632920000, caseIdentifier=3, predecessor=null))], fe=[Event(activity=f, timestamp=1745625840000, caseIdentifier=1, predecessor=Event(activity=d, timestamp=1745625780000, caseIdentifier=1, predecessor=null)), Event(activity=e, timestamp=1745625900000, caseIdentifier=1, predecessor=Event(activity=f, timestamp=1745625840000, caseIdentifier=1, predecessor=null))]}"
      ]
     },
     "execution_count": 127,
     "metadata": {},
     "output_type": "execute_result"
    }
   ],
   "execution_count": 127
  },
  {
   "metadata": {
    "ExecuteTime": {
     "end_time": "2025-09-23T14:07:13.771019Z",
     "start_time": "2025-09-23T14:07:13.723358Z"
    }
   },
   "cell_type": "code",
   "source": [
    "val parByChain = chains.associateWith { chain ->\n",
    "    epa.partition(chain.first())\n",
    "}\n",
    "parByChain"
   ],
   "outputs": [
    {
     "data": {
      "text/plain": [
       "{[f, e]=2, [b, c, d]=1, [c, b, d]=2, [f, e]=1}"
      ]
     },
     "execution_count": 121,
     "metadata": {},
     "output_type": "execute_result"
    }
   ],
   "execution_count": 121
  },
  {
   "metadata": {},
   "cell_type": "code",
   "source": "",
   "outputs": [],
   "execution_count": null
  },
  {
   "metadata": {
    "ExecuteTime": {
     "end_time": "2025-09-23T14:10:38.533857Z",
     "start_time": "2025-09-23T14:10:38.496014Z"
    }
   },
   "cell_type": "code",
   "source": [
    "val syntheticStateByChainStart = syntheticStateByChain.mapKeys { a -> a.key.first() }\n",
    "syntheticStateByChainStart"
   ],
   "outputs": [
    {
     "data": {
      "text/plain": [
       "{f=fe, b=bcd, c=cbd, f=fe}"
      ]
     },
     "execution_count": 129,
     "metadata": {},
     "output_type": "execute_result"
    }
   ],
   "execution_count": 129
  },
  {
   "metadata": {
    "ExecuteTime": {
     "end_time": "2025-09-23T14:46:46.623298Z",
     "start_time": "2025-09-23T14:46:46.515204Z"
    }
   },
   "cell_type": "code",
   "source": [
    "val syntheticByParent = buildMap<State, List<State>> {\n",
    "    childrenByParent.forEach { (parent, children) ->\n",
    "        children.forEach { child ->\n",
    "            if (syntheticStateByChainStart[child] != null) {\n",
    "                val alreadyPresnt = get(parent) ?: emptyList<State>()\n",
    "                put(parent, listOf(syntheticStateByChainStart[child]!!) + alreadyPresnt)\n",
    "            }\n",
    "        }\n",
    "    }\n",
    "}\n",
    "syntheticByParent"
   ],
   "outputs": [
    {
     "data": {
      "text/plain": [
       "{a=[bcd]}"
      ]
     },
     "execution_count": 170,
     "metadata": {},
     "output_type": "execute_result"
    }
   ],
   "execution_count": 170
  },
  {
   "metadata": {},
   "cell_type": "code",
   "source": [
    "fun <T> mergeMaps(\n",
    "    first: Map<T, List<T>>,\n",
    "    second: Map<T, List<T>>\n",
    "): Map<T, List<T>> {\n",
    "    return (first.keys + second.keys).associateWith { key ->\n",
    "        (first[key].orEmpty() + second[key].orEmpty())\n",
    "    }\n",
    "}"
   ],
   "outputs": [],
   "execution_count": null
  },
  {
   "metadata": {
    "ExecuteTime": {
     "end_time": "2025-09-23T14:49:50.057170Z",
     "start_time": "2025-09-23T14:49:49.823537Z"
    }
   },
   "cell_type": "code",
   "source": [
    "val mappingWithouthSynthStyle = buildMap<State, List<State>> {\n",
    "    childrenByParent.forEach { parent, children ->\n",
    "        if (childrenByParentWithOneChildren[parent] != null) return@forEach\n",
    "        if (chains.flatten().contains(parent)) return@forEach\n",
    "        val newChildren = children.filter {\n",
    "            childrenByParentWithOneChildren[it] == null\n",
    "        }\n",
    "        put(parent, newChildren)\n",
    "    }\n",
    "\n",
    "    syntheticByParent.forEach { parent, synthetic ->\n",
    "        val alreadyPreeasent = get(parent) ?: emptyList()\n",
    "\n",
    "        put(parent, alreadyPreeasent + synthetic)\n",
    "    }\n",
    "\n",
    "    putAll(childrenBySynthetic)\n",
    "}\n",
    "\n",
    "mappingWithouthSynthStyle.values.flatten()"
   ],
   "outputs": [
    {
     "data": {
      "text/plain": [
       "[e, bcd]"
      ]
     },
     "execution_count": 175,
     "metadata": {},
     "output_type": "execute_result"
    }
   ],
   "execution_count": 175
  },
  {
   "metadata": {
    "ExecuteTime": {
     "end_time": "2025-09-23T13:15:41.140341Z",
     "start_time": "2025-09-23T13:15:40.979554Z"
    }
   },
   "cell_type": "code",
   "source": [
    "val transitions = mappingWithouthSynthStyle.flatMap { (parent, children) ->\n",
    "    children.map { child ->\n",
    "        Transition(\n",
    "            start = parent,\n",
    "            activity = (child as State.PrefixState).via,\n",
    "            end = child\n",
    "        )\n",
    "    }\n",
    "}"
   ],
   "outputs": [
    {
     "data": {
      "text/plain": [
       "[Transition(start=c, activity=f, end=f), Transition(start=c, activity=eh, end=eh), Transition(start=root, activity=a, end=a), Transition(start=a, activity=c, end=c), Transition(start=a, activity=bdg, end=bdg), Transition(start=eh, activity=i, end=i), Transition(start=eh, activity=j, end=j)]"
      ]
     },
     "execution_count": 61,
     "metadata": {},
     "output_type": "execute_result"
    }
   ],
   "execution_count": 61
  },
  {
   "metadata": {
    "ExecuteTime": {
     "end_time": "2025-09-23T14:47:59.370089Z",
     "start_time": "2025-09-23T14:47:59.235881Z"
    }
   },
   "cell_type": "code",
   "source": [
    "val syntheticByChainparts = buildMap {\n",
    "    syntheticStateByChain.forEach { (chain, synth) ->\n",
    "        chain.forEach { state ->\n",
    "            put(state, synth)\n",
    "        }\n",
    "    }\n",
    "}\n",
    "syntheticByChainparts"
   ],
   "outputs": [
    {
     "data": {
      "text/plain": [
       "{a=abc, b=abc, c=abc, d=de, e=de, b=bcde, c=bcde, d=bcde, e=bcde}"
      ]
     },
     "execution_count": 172,
     "metadata": {},
     "output_type": "execute_result"
    }
   ],
   "execution_count": 172
  },
  {
   "metadata": {
    "ExecuteTime": {
     "end_time": "2025-09-23T13:41:45.250180Z",
     "start_time": "2025-09-23T13:41:45.127229Z"
    }
   },
   "cell_type": "code",
   "source": [
    "preStates\n",
    "    .map { state ->\n",
    "        if (state is State.PrefixState) {\n",
    "            val from = state.from\n",
    "            if (chains.flatten().contains(from)) {\n",
    "                val newFrom = syntheticForPart[from]!!\n",
    "                State.PrefixState(\n",
    "                    from = newFrom,\n",
    "                    via = state.via\n",
    "                )\n",
    "            } else state\n",
    "        } else {\n",
    "            state\n",
    "        }\n",
    "    }.map { (it as? State.PrefixState)?.from }"
   ],
   "outputs": [
    {
     "data": {
      "text/plain": [
       "[eh, eh, null, root, c, eh, a, bdg]"
      ]
     },
     "execution_count": 83,
     "metadata": {},
     "output_type": "execute_result"
    }
   ],
   "execution_count": 83
  },
  {
   "metadata": {},
   "cell_type": "code",
   "outputs": [],
   "execution_count": null,
   "source": [
    "val prePartitionByState = epa.states.associateWith { epa.partition(it) }\n",
    "prePartitionByState"
   ]
  }
 ],
 "metadata": {
  "kernelspec": {
   "display_name": "Kotlin",
   "language": "kotlin",
   "name": "kotlin"
  },
  "language_info": {
   "name": "kotlin",
   "version": "2.2.20-Beta2",
   "mimetype": "text/x-kotlin",
   "file_extension": ".kt",
   "pygments_lexer": "kotlin",
   "codemirror_mode": "text/x-kotlin",
   "nbconvert_exporter": ""
  },
  "ktnbPluginMetadata": {
   "projectLibraries": true
  }
 },
 "nbformat": 4,
 "nbformat_minor": 0
}
