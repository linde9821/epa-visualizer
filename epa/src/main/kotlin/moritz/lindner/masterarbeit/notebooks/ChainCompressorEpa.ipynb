{
 "cells": [
  {
   "metadata": {
    "collapsed": true
   },
   "cell_type": "markdown",
   "source": "# Compress Filter"
  },
  {
   "metadata": {},
   "cell_type": "markdown",
   "source": "load epa"
  },
  {
   "metadata": {},
   "cell_type": "code",
   "source": [
    "import moritz.lindner.masterarbeit.epa.construction.builder.xes.EpaFromXesBuilder\n",
    "import moritz.lindner.masterarbeit.epa.construction.builder.xes.SampleEventMapper\n",
    "import java.io.File\n",
    "\n",
    "val epa = EpaFromXesBuilder<Long>()\n",
    "    .setFile(File(\"/Users/moritzlindner/programming/Masterarbeit/epa-visualizer/epa/src/test/resources/simple2.xes\"))\n",
    "    .setEventLogMapper(SampleEventMapper())\n",
    "    .build()\n",
    "\n",
    "epa"
   ],
   "outputs": [],
   "execution_count": null
  },
  {
   "metadata": {},
   "cell_type": "code",
   "source": [
    "class MarkedState(\n",
    "    var state: State,\n",
    "    var isInvalid: Boolean\n",
    ") {\n",
    "    override fun toString(): String {\n",
    "        return \"$state: $isInvalid\"\n",
    "    }\n",
    "}\n",
    "\n",
    "class SyntheticStates(\n",
    "    val chains: List<List<State.PrefixState>>,\n",
    ") {\n",
    "    private val allChainParts = chains.flatten().toSet()\n",
    "\n",
    "    val chainByChainStart = chains.map { it.first() to it }.toMap()\n",
    "    val chainByChainEnd = chains.map { it.last() to it }.toMap()\n",
    "\n",
    "    val syntheticStateByChain = chains.associateWith { chain ->\n",
    "        MarkedState(\n",
    "            state = State.PrefixState(\n",
    "                from = chain.first().from,\n",
    "                via = chain.fold(Activity(\"\")) { acc, s -> Activity(acc.name + s.name) }\n",
    "            ),\n",
    "            isInvalid = true\n",
    "        )\n",
    "    }\n",
    "\n",
    "    fun isPartOfChain(state: State): Boolean {\n",
    "        return allChainParts.contains(state)\n",
    "    }\n",
    "\n",
    "    override fun toString(): String {\n",
    "        return chains.map { chains -> chains.joinToString(\",\") }.joinToString(\"\\n\")\n",
    "    }\n",
    "}\n",
    "\n",
    "class Mapping {\n",
    "    var parentByState = mutableMapOf<State, MarkedState>()\n",
    "    var childrenByState = mutableMapOf<State, List<MarkedState>>()\n",
    "\n",
    "    fun markeParentsIfInvalid(chains: SyntheticStates) {\n",
    "        chains.chains.forEach { chain ->\n",
    "            parentByState.forEach { state, parent ->\n",
    "                if (parent.state == chain.last()) {\n",
    "                    println(\"marking $parent\")\n",
    "                    parentByState[state]?.isInvalid = true\n",
    "                }\n",
    "            }\n",
    "        }\n",
    "    }\n",
    "\n",
    "    fun markChildrenIfInvalid(chains: SyntheticStates) {\n",
    "        childrenByState.forEach { _, children ->\n",
    "            children.forEach { child ->\n",
    "                val isPresent = chains.chainByChainStart[child.state] != null\n",
    "                if (isPresent) child.isInvalid = true\n",
    "            }\n",
    "        }\n",
    "    }\n",
    "\n",
    "    fun addParentForState(key: State, value: MarkedState) {\n",
    "        parentByState.put(key, value)\n",
    "    }\n",
    "\n",
    "    fun addChildrenForState(key: State, values: List<MarkedState>) {\n",
    "        val children = childrenByState.get(key) ?: emptyList()\n",
    "\n",
    "        childrenByState.put(key, children + values)\n",
    "    }\n",
    "\n",
    "    fun addIfNotPresent(state: State) {\n",
    "        if (childrenByState.contains(state).not()) {\n",
    "            childrenByState.put(state, emptyList())\n",
    "        }\n",
    "    }\n",
    "\n",
    "    fun <T> mergeSublistsKeepLongest(lists: List<List<T>>): List<List<T>> {\n",
    "        return lists.filter { currentList ->\n",
    "            // Keep this list only if no other list contains all of its elements\n",
    "            lists.none { otherList ->\n",
    "                otherList != currentList && otherList.containsAll(currentList)\n",
    "            }\n",
    "        }\n",
    "    }\n",
    "\n",
    "    fun detectChains(): SyntheticStates {\n",
    "        val chains = childrenByState\n",
    "            .filter { it.key is State.PrefixState }\n",
    "            .filter { it.value.size == 1 }\n",
    "            .map { (state, _) ->\n",
    "                listOf(state) + followChain(state, emptyList())\n",
    "            }.map { chain ->\n",
    "                chain.map { it as State.PrefixState }\n",
    "            }\n",
    "\n",
    "        return SyntheticStates(mergeSublistsKeepLongest(chains))\n",
    "    }\n",
    "\n",
    "    fun followChain(a: State, acc: List<State>): List<State> {\n",
    "        if (childrenByState[a] != null && childrenByState[a]!!.isNotEmpty()) {\n",
    "            val n = childrenByState[a]!!.first()\n",
    "            return if (childrenByState[a]!!.size == 1) followChain(n.state, acc + n.state)\n",
    "            else acc\n",
    "        } else return acc\n",
    "    }\n",
    "\n",
    "    override fun toString(): String {\n",
    "        return \"parents:\\n${parentByState.map { \"${it.key} -> ${it.value}\\n\" }}\\n\" +\n",
    "                \"children:\\n${childrenByState.map { \"${it.key} -> [${it.value.joinToString()}]\" }}\"\n",
    "    }\n",
    "\n",
    "    fun addSyntheticStates(syntheticStates: SyntheticStates) {\n",
    "        syntheticStates.chains.forEach { chain ->\n",
    "            val parent = parentByState[chain.first()]!!\n",
    "            parentByState.put(syntheticStates.syntheticStateByChain[chain]!!.state, parent)\n",
    "\n",
    "            val children = childrenByState[chain.last()]!!\n",
    "            childrenByState.put(syntheticStates.syntheticStateByChain[chain]!!.state, children)\n",
    "        }\n",
    "    }\n",
    "\n",
    "    fun removeAllStatesWhichArePartOfChain(syntheticStates: SyntheticStates) {\n",
    "        val newparentByState = mutableMapOf<State, MarkedState>()\n",
    "        val newchildrenByState = mutableMapOf<State, List<MarkedState>>()\n",
    "\n",
    "        parentByState.forEach { state, p ->\n",
    "            if (syntheticStates.isPartOfChain(state).not()) newparentByState.put(state, p)\n",
    "        }\n",
    "\n",
    "        childrenByState.forEach { state, c ->\n",
    "            if (syntheticStates.isPartOfChain(state).not()) newchildrenByState.put(state, c)\n",
    "        }\n",
    "\n",
    "        parentByState = newparentByState\n",
    "        childrenByState = newchildrenByState\n",
    "    }\n",
    "\n",
    "    fun updateParents(syntheticStates: SyntheticStates) {\n",
    "        parentByState.forEach { state, parent ->\n",
    "            if (parent.isInvalid) {\n",
    "                val chain = syntheticStates.chainByChainEnd[parent.state]!!\n",
    "                val newstate = syntheticStates.syntheticStateByChain[chain]!!\n",
    "                newstate.isInvalid = false\n",
    "                parentByState[state] = newstate\n",
    "            }\n",
    "        }\n",
    "    }\n",
    "\n",
    "    fun updateChildren(syntheticStates: SyntheticStates) {\n",
    "        childrenByState.forEach { state, children ->\n",
    "            val update = children.map { child ->\n",
    "                if (child.isInvalid) {\n",
    "                    val chain = syntheticStates.chainByChainStart[child.state]\n",
    "                    val newState = syntheticStates.syntheticStateByChain[chain]!!\n",
    "                    newState.isInvalid = false\n",
    "                    newState\n",
    "                } else child\n",
    "            }\n",
    "            childrenByState.put(state, update)\n",
    "        }\n",
    "    }\n",
    "\n",
    "    fun buildNewEpa(epa: ExtendedPrefixAutomaton<Long>): ExtendedPrefixAutomaton<Long> {\n",
    "\n",
    "        val transitions = childrenByState.flatMap { (state, children) ->\n",
    "            children.map { child ->\n",
    "                Transition(\n",
    "                    start = state,\n",
    "                    activity = (child.state as State.PrefixState).via,\n",
    "                    end = child.state\n",
    "                )\n",
    "            }\n",
    "        }\n",
    "\n",
    "        parentByState.map { (state, parent) ->\n",
    "            state as State.PrefixState\n",
    "            state.from = parent.state\n",
    "        }\n",
    "\n",
    "        return ExtendedPrefixAutomaton<Long>(\n",
    "            eventLogName = epa.eventLogName + \"compressed\",\n",
    "            states = (listOf(State.Root) + parentByState.keys.toList()).toSet(),\n",
    "            activities = transitions.map { it.activity }.toSet(),\n",
    "            transitions = transitions.toSet(),\n",
    "            partitionByState = emptyMap(),\n",
    "            sequenceByState = emptyMap()\n",
    "        )\n",
    "    }\n",
    "}"
   ],
   "outputs": [],
   "execution_count": null
  },
  {
   "metadata": {},
   "cell_type": "markdown",
   "source": "1. Create mapping of epa"
  },
  {
   "metadata": {},
   "cell_type": "code",
   "source": [
    "val mapping = Mapping()\n",
    "\n",
    "val childrenByParent = epa.transitions.groupBy { it.start }.mapValues { it.value.map { it.end } }\n",
    "val parentByChild = epa.transitions.groupBy { it.end }.mapValues { it.value.map { it.start }.first() }\n",
    "\n",
    "childrenByParent.forEach { state, children ->\n",
    "    mapping.addChildrenForState(state, children.map { MarkedState(it as State.PrefixState, false) })\n",
    "}\n",
    "\n",
    "parentByChild.forEach { state, parent ->\n",
    "    mapping.addParentForState(state, MarkedState(parent, false))\n",
    "}\n",
    "\n",
    "epa.states.forEach { state ->\n",
    "    mapping.addIfNotPresent(state)\n",
    "}\n",
    "\n",
    "mapping"
   ],
   "outputs": [],
   "execution_count": null
  },
  {
   "metadata": {},
   "cell_type": "markdown",
   "source": "detect chains"
  },
  {
   "metadata": {},
   "cell_type": "code",
   "source": [
    "val chains = mapping.detectChains()\n",
    "chains"
   ],
   "outputs": [],
   "execution_count": null
  },
  {
   "metadata": {},
   "cell_type": "markdown",
   "source": "3.1 Marke parent of each state as invalid if the parent-state is a chain end"
  },
  {
   "metadata": {},
   "cell_type": "code",
   "source": [
    "mapping.markeParentsIfInvalid(chains)\n",
    "mapping"
   ],
   "outputs": [],
   "execution_count": null
  },
  {
   "metadata": {},
   "cell_type": "markdown",
   "source": "3.1 Marke children of each state as invalid if the state is a chain start"
  },
  {
   "metadata": {},
   "cell_type": "code",
   "source": [
    "mapping.markChildrenIfInvalid(chains)\n",
    "mapping"
   ],
   "outputs": [],
   "execution_count": null
  },
  {
   "metadata": {},
   "cell_type": "markdown",
   "source": "add new states and add marked state from lookup table for parents and children"
  },
  {
   "metadata": {},
   "cell_type": "code",
   "source": [
    "mapping.addSyntheticStates(chains)\n",
    "mapping"
   ],
   "outputs": [],
   "execution_count": null
  },
  {
   "metadata": {},
   "cell_type": "markdown",
   "source": "5. Remove all states which are part of chain"
  },
  {
   "metadata": {},
   "cell_type": "code",
   "source": [
    "mapping.removeAllStatesWhichArePartOfChain(chains)\n",
    "mapping"
   ],
   "outputs": [],
   "execution_count": null
  },
  {
   "metadata": {},
   "cell_type": "markdown",
   "source": "6. update invalidated parents by takeing chain as parent where old parent is chain-end"
  },
  {
   "metadata": {},
   "cell_type": "code",
   "source": [
    "mapping.updateParents(chains)\n",
    "mapping"
   ],
   "outputs": [],
   "execution_count": null
  },
  {
   "metadata": {},
   "cell_type": "markdown",
   "source": "6. update invalidated children by taking new chain state where children is start"
  },
  {
   "metadata": {},
   "cell_type": "code",
   "source": [
    "mapping.updateChildren(chains)\n",
    "mapping"
   ],
   "outputs": [],
   "execution_count": null
  },
  {
   "metadata": {},
   "cell_type": "code",
   "source": [
    "val newEpa = mapping.buildNewEpa(epa)\n",
    "newEpa"
   ],
   "outputs": [],
   "execution_count": null
  },
  {
   "metadata": {},
   "cell_type": "code",
   "source": "newEpa.states.map { it to (it as? State.PrefixState)?.from }",
   "outputs": [],
   "execution_count": null
  }
 ],
 "metadata": {
  "kernelspec": {
   "display_name": "Kotlin",
   "language": "kotlin",
   "name": "kotlin"
  },
  "language_info": {
   "name": "kotlin",
   "version": "2.2.20-Beta2",
   "mimetype": "text/x-kotlin",
   "file_extension": ".kt",
   "pygments_lexer": "kotlin",
   "codemirror_mode": "text/x-kotlin",
   "nbconvert_exporter": ""
  },
  "ktnbPluginMetadata": {
   "projectDependencies": [
    "epa-visualizer.epa.main"
   ],
   "projectLibraries": false
  }
 },
 "nbformat": 4,
 "nbformat_minor": 0
}
