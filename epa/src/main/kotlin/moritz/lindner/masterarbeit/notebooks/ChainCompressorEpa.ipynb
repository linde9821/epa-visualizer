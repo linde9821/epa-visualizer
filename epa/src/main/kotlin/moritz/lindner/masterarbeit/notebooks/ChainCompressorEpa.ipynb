{
 "cells": [
  {
   "metadata": {
    "collapsed": true
   },
   "cell_type": "markdown",
   "source": "# Compress Filter"
  },
  {
   "metadata": {},
   "cell_type": "markdown",
   "source": "load epa"
  },
  {
   "metadata": {
    "ExecuteTime": {
     "end_time": "2025-09-24T10:50:42.389266Z",
     "start_time": "2025-09-24T10:50:42.235021Z"
    }
   },
   "cell_type": "code",
   "source": [
    "import moritz.lindner.masterarbeit.epa.construction.builder.ExtendedPrefixAutomatonBuilder\n",
    "import moritz.lindner.masterarbeit.epa.construction.builder.SampleEventMapper\n",
    "import moritz.lindner.masterarbeit.epa.*\n",
    "import moritz.lindner.masterarbeit.epa.domain.*\n",
    "import java.io.File\n",
    "\n",
    "val epa = ExtendedPrefixAutomatonBuilder<Long>()\n",
    "    .setFile(File(\"/Users/moritzlindner/programming/Masterarbeit/epa-visualizer/epa/src/test/resources/simple2.xes\"))\n",
    "    .setEventLogMapper(SampleEventMapper())\n",
    "    .build()\n",
    "\n",
    "epa"
   ],
   "outputs": [
    {
     "data": {
      "text/plain": [
       "simple2.xes\n",
       "c1,c2,f1,root,a1,d1,e1,f2,e2,b1\n",
       "a1,f1,e1,f2,d1,e2,c1,b1,c2\n",
       "Transition(start=a1, activity=b1, end=b1),Transition(start=a1, activity=c1, end=c1),Transition(start=f1, activity=f2, end=f2),Transition(start=f1, activity=e2, end=e2),Transition(start=root, activity=a1, end=a1),Transition(start=e2, activity=c2, end=c2),Transition(start=e1, activity=f1, end=f1),Transition(start=b1, activity=d1, end=d1),Transition(start=c1, activity=e1, end=e1)\n",
       "c1:2,c2:3,f1:2,root:0,a1:1,d1:1,e1:2,f2:2,e2:3,b1:1\n",
       "c1:Event(activity=c1, timestamp=1745625660000, caseIdentifier=2, predecessor=Event(activity=a1, timestamp=1745625600000, caseIdentifier=2, predecessor=null)),Event(activity=c1, timestamp=1745625660000, caseIdentifier=3, predecessor=Event(activity=a1, timestamp=1745625600000, caseIdentifier=3, predecessor=null)),c2:Event(activity=c2, timestamp=1745625900000, caseIdentifier=3, predecessor=Event(activity=e2, timestamp=1745625840000, caseIdentifier=3, predecessor=null)),f1:Event(activity=f1, timestamp=1745625780000, caseIdentifier=2, predecessor=Event(activity=e1, timestamp=1745625720000, caseIdentifier=2, predecessor=null)),Event(activity=f1, timestamp=1745625780000, caseIdentifier=3, predecessor=Event(activity=e1, timestamp=1745625720000, caseIdentifier=3, predecessor=null)),root:,e1:Event(activity=e1, timestamp=1745625720000, caseIdentifier=2, predecessor=Event(activity=c1, timestamp=1745625660000, caseIdentifier=2, predecessor=null)),Event(activity=e1, timestamp=1745625720000, caseIdentifier=3, predecessor=Event(activity=c1, timestamp=1745625660000, caseIdentifier=3, predecessor=null)),d1:Event(activity=d1, timestamp=1745625720000, caseIdentifier=1, predecessor=Event(activity=b1, timestamp=1745625660000, caseIdentifier=1, predecessor=null)),a1:Event(activity=a1, timestamp=1745625600000, caseIdentifier=1, predecessor=null),Event(activity=a1, timestamp=1745625600000, caseIdentifier=2, predecessor=null),Event(activity=a1, timestamp=1745625600000, caseIdentifier=3, predecessor=null),f2:Event(activity=f2, timestamp=1745625840000, caseIdentifier=2, predecessor=Event(activity=f1, timestamp=1745625780000, caseIdentifier=2, predecessor=null)),e2:Event(activity=e2, timestamp=1745625840000, caseIdentifier=3, predecessor=Event(activity=f1, timestamp=1745625780000, caseIdentifier=3, predecessor=null)),b1:Event(activity=b1, timestamp=1745625660000, caseIdentifier=1, predecessor=Event(activity=a1, timestamp=1745625600000, caseIdentifier=1, predecessor=null))\n"
      ]
     },
     "execution_count": 18,
     "metadata": {},
     "output_type": "execute_result"
    }
   ],
   "execution_count": 18
  },
  {
   "metadata": {
    "ExecuteTime": {
     "end_time": "2025-09-24T10:50:42.775457Z",
     "start_time": "2025-09-24T10:50:42.408260Z"
    }
   },
   "cell_type": "code",
   "source": [
    "class MarkedState(\n",
    "    var state: State,\n",
    "    var isInvalid: Boolean\n",
    ") {\n",
    "    override fun toString(): String {\n",
    "        return \"$state: $isInvalid\"\n",
    "    }\n",
    "}\n",
    "\n",
    "class SyntheticStates(\n",
    "    val chains: List<List<State.PrefixState>>,\n",
    ") {\n",
    "    private val allChainParts = chains.flatten().toSet()\n",
    "\n",
    "    val chainByChainStart = chains.map { it.first() to it }.toMap()\n",
    "    val chainByChainEnd = chains.map { it.last() to it }.toMap()\n",
    "\n",
    "    val syntheticStateByChain = chains.associateWith { chain ->\n",
    "        MarkedState(\n",
    "            state = State.PrefixState(\n",
    "                from = chain.first().from,\n",
    "                via = chain.fold(Activity(\"\")) { acc, s -> Activity(acc.name + s.name) }\n",
    "            ),\n",
    "            isInvalid = true\n",
    "        )\n",
    "    }\n",
    "\n",
    "    fun isPartOfChain(state: State): Boolean {\n",
    "        return allChainParts.contains(state)\n",
    "    }\n",
    "\n",
    "    override fun toString(): String {\n",
    "        return chains.map { chains -> chains.joinToString(\",\") }.joinToString(\"\\n\")\n",
    "    }\n",
    "}\n",
    "\n",
    "class Mapping {\n",
    "    var parentByState = mutableMapOf<State, MarkedState>()\n",
    "    var childrenByState = mutableMapOf<State, List<MarkedState>>()\n",
    "\n",
    "    fun markeParentsIfInvalid(chains: SyntheticStates) {\n",
    "        chains.chains.forEach { chain ->\n",
    "            parentByState.forEach { state, parent ->\n",
    "                if (parent.state == chain.last()) {\n",
    "                    println(\"marking $parent\")\n",
    "                    parentByState[state]?.isInvalid = true\n",
    "                }\n",
    "            }\n",
    "        }\n",
    "    }\n",
    "\n",
    "    fun markChildrenIfInvalid(chains: SyntheticStates) {\n",
    "        childrenByState.forEach { _, children ->\n",
    "            children.forEach { child ->\n",
    "                val isPresent = chains.chainByChainStart[child.state] != null\n",
    "                if (isPresent) child.isInvalid = true\n",
    "            }\n",
    "        }\n",
    "    }\n",
    "\n",
    "    fun addParentForState(key: State, value: MarkedState) {\n",
    "        parentByState.put(key, value)\n",
    "    }\n",
    "\n",
    "    fun addChildrenForState(key: State, values: List<MarkedState>) {\n",
    "        val children = childrenByState.get(key) ?: emptyList()\n",
    "\n",
    "        childrenByState.put(key, children + values)\n",
    "    }\n",
    "\n",
    "    fun addIfNotPresent(state: State) {\n",
    "        if (childrenByState.contains(state).not()) {\n",
    "            childrenByState.put(state, emptyList())\n",
    "        }\n",
    "    }\n",
    "\n",
    "    fun <T> mergeSublistsKeepLongest(lists: List<List<T>>): List<List<T>> {\n",
    "        return lists.filter { currentList ->\n",
    "            // Keep this list only if no other list contains all of its elements\n",
    "            lists.none { otherList ->\n",
    "                otherList != currentList && otherList.containsAll(currentList)\n",
    "            }\n",
    "        }\n",
    "    }\n",
    "\n",
    "    fun detectChains(): SyntheticStates {\n",
    "        val chains = childrenByState\n",
    "            .filter { it.key is State.PrefixState }\n",
    "            .filter { it.value.size == 1 }\n",
    "            .map { (state, _) ->\n",
    "                listOf(state) + followChain(state, emptyList())\n",
    "            }.map { chain ->\n",
    "                chain.map { it as State.PrefixState }\n",
    "            }\n",
    "\n",
    "        return SyntheticStates(mergeSublistsKeepLongest(chains))\n",
    "    }\n",
    "\n",
    "    fun followChain(a: State, acc: List<State>): List<State> {\n",
    "        if (childrenByState[a] != null && childrenByState[a]!!.isNotEmpty()) {\n",
    "            val n = childrenByState[a]!!.first()\n",
    "            return if (childrenByState[a]!!.size == 1) followChain(n.state, acc + n.state)\n",
    "            else acc\n",
    "        } else return acc\n",
    "    }\n",
    "\n",
    "    override fun toString(): String {\n",
    "        return \"parents:\\n${parentByState.map { \"${it.key} -> ${it.value}\\n\" }}\\n\" +\n",
    "                \"children:\\n${childrenByState.map { \"${it.key} -> [${it.value.joinToString()}]\" }}\"\n",
    "    }\n",
    "\n",
    "    fun addSyntheticStates(syntheticStates: SyntheticStates) {\n",
    "        syntheticStates.chains.forEach { chain ->\n",
    "            val parent = parentByState[chain.first()]!!\n",
    "            parentByState.put(syntheticStates.syntheticStateByChain[chain]!!.state, parent)\n",
    "\n",
    "            val children = childrenByState[chain.last()]!!\n",
    "            childrenByState.put(syntheticStates.syntheticStateByChain[chain]!!.state, children)\n",
    "        }\n",
    "    }\n",
    "\n",
    "    fun removeAllStatesWhichArePartOfChain(syntheticStates: SyntheticStates) {\n",
    "        val newparentByState = mutableMapOf<State, MarkedState>()\n",
    "        val newchildrenByState = mutableMapOf<State, List<MarkedState>>()\n",
    "\n",
    "        parentByState.forEach { state, p ->\n",
    "            if (syntheticStates.isPartOfChain(state).not()) newparentByState.put(state, p)\n",
    "        }\n",
    "\n",
    "        childrenByState.forEach { state, c ->\n",
    "            if (syntheticStates.isPartOfChain(state).not()) newchildrenByState.put(state, c)\n",
    "        }\n",
    "\n",
    "        parentByState = newparentByState\n",
    "        childrenByState = newchildrenByState\n",
    "    }\n",
    "\n",
    "    fun updateParents(syntheticStates: SyntheticStates) {\n",
    "        parentByState.forEach { state, parent ->\n",
    "            if (parent.isInvalid) {\n",
    "                val chain = syntheticStates.chainByChainEnd[parent.state]!!\n",
    "                val newstate = syntheticStates.syntheticStateByChain[chain]!!\n",
    "                newstate.isInvalid = false\n",
    "                parentByState[state] = newstate\n",
    "            }\n",
    "        }\n",
    "    }\n",
    "\n",
    "    fun updateChildren(syntheticStates: SyntheticStates) {\n",
    "        childrenByState.forEach { state, children ->\n",
    "            val update = children.map { child ->\n",
    "                if (child.isInvalid) {\n",
    "                    val chain = syntheticStates.chainByChainStart[child.state]\n",
    "                    val newState = syntheticStates.syntheticStateByChain[chain]!!\n",
    "                    newState.isInvalid = false\n",
    "                    newState\n",
    "                } else child\n",
    "            }\n",
    "            childrenByState.put(state, update)\n",
    "        }\n",
    "    }\n",
    "\n",
    "    fun buildNewEpa(epa: ExtendedPrefixAutomaton<Long>): ExtendedPrefixAutomaton<Long> {\n",
    "\n",
    "        val transitions = childrenByState.flatMap { (state, children) ->\n",
    "            children.map { child ->\n",
    "                Transition(\n",
    "                    start = state,\n",
    "                    activity = (child.state as State.PrefixState).via,\n",
    "                    end = child.state\n",
    "                )\n",
    "            }\n",
    "        }\n",
    "\n",
    "        parentByState.map { (state, parent) ->\n",
    "            state as State.PrefixState\n",
    "            state.from = parent.state\n",
    "        }\n",
    "\n",
    "        return ExtendedPrefixAutomaton<Long>(\n",
    "            eventLogName = epa.eventLogName + \"compressed\",\n",
    "            states = (listOf(State.Root) + parentByState.keys.toList()).toSet(),\n",
    "            activities = transitions.map { it.activity }.toSet(),\n",
    "            transitions = transitions.toSet(),\n",
    "            partitionByState = emptyMap(),\n",
    "            sequenceByState = emptyMap()\n",
    "        )\n",
    "    }\n",
    "}"
   ],
   "outputs": [],
   "execution_count": 19
  },
  {
   "metadata": {},
   "cell_type": "markdown",
   "source": "1. Create mapping of epa"
  },
  {
   "metadata": {
    "ExecuteTime": {
     "end_time": "2025-09-24T10:50:42.930790Z",
     "start_time": "2025-09-24T10:50:42.825153Z"
    }
   },
   "cell_type": "code",
   "source": [
    "val mapping = Mapping()\n",
    "\n",
    "val childrenByParent = epa.transitions.groupBy { it.start }.mapValues { it.value.map { it.end } }\n",
    "val parentByChild = epa.transitions.groupBy { it.end }.mapValues { it.value.map { it.start }.first() }\n",
    "\n",
    "childrenByParent.forEach { state, children ->\n",
    "    mapping.addChildrenForState(state, children.map { MarkedState(it as State.PrefixState, false) })\n",
    "}\n",
    "\n",
    "parentByChild.forEach { state, parent ->\n",
    "    mapping.addParentForState(state, MarkedState(parent, false))\n",
    "}\n",
    "\n",
    "epa.states.forEach { state ->\n",
    "    mapping.addIfNotPresent(state)\n",
    "}\n",
    "\n",
    "mapping"
   ],
   "outputs": [
    {
     "data": {
      "text/plain": [
       "parents:\n",
       "[b1 -> a1: false\n",
       ", c1 -> a1: false\n",
       ", f2 -> f1: false\n",
       ", e2 -> f1: false\n",
       ", a1 -> root: false\n",
       ", c2 -> e2: false\n",
       ", f1 -> e1: false\n",
       ", d1 -> b1: false\n",
       ", e1 -> c1: false\n",
       "]\n",
       "children:\n",
       "[a1 -> [b1: false, c1: false], f1 -> [f2: false, e2: false], root -> [a1: false], e2 -> [c2: false], e1 -> [f1: false], b1 -> [d1: false], c1 -> [e1: false], c2 -> [], d1 -> [], f2 -> []]"
      ]
     },
     "execution_count": 20,
     "metadata": {},
     "output_type": "execute_result"
    }
   ],
   "execution_count": 20
  },
  {
   "metadata": {},
   "cell_type": "markdown",
   "source": "detect chains"
  },
  {
   "metadata": {
    "ExecuteTime": {
     "end_time": "2025-09-24T10:50:43.039628Z",
     "start_time": "2025-09-24T10:50:43.007680Z"
    }
   },
   "cell_type": "code",
   "source": [
    "val chains = mapping.detectChains()\n",
    "chains"
   ],
   "outputs": [
    {
     "data": {
      "text/plain": [
       "e2,c2\n",
       "b1,d1\n",
       "c1,e1,f1"
      ]
     },
     "execution_count": 21,
     "metadata": {},
     "output_type": "execute_result"
    }
   ],
   "execution_count": 21
  },
  {
   "metadata": {},
   "cell_type": "markdown",
   "source": "3.1 Marke parent of each state as invalid if the parent-state is a chain end"
  },
  {
   "metadata": {
    "ExecuteTime": {
     "end_time": "2025-09-24T10:50:43.163009Z",
     "start_time": "2025-09-24T10:50:43.132022Z"
    }
   },
   "cell_type": "code",
   "source": [
    "mapping.markeParentsIfInvalid(chains)\n",
    "mapping"
   ],
   "outputs": [
    {
     "name": "stdout",
     "output_type": "stream",
     "text": [
      "marking f1: false\n",
      "marking f1: false\n"
     ]
    },
    {
     "data": {
      "text/plain": [
       "parents:\n",
       "[b1 -> a1: false\n",
       ", c1 -> a1: false\n",
       ", f2 -> f1: true\n",
       ", e2 -> f1: true\n",
       ", a1 -> root: false\n",
       ", c2 -> e2: false\n",
       ", f1 -> e1: false\n",
       ", d1 -> b1: false\n",
       ", e1 -> c1: false\n",
       "]\n",
       "children:\n",
       "[a1 -> [b1: false, c1: false], f1 -> [f2: false, e2: false], root -> [a1: false], e2 -> [c2: false], e1 -> [f1: false], b1 -> [d1: false], c1 -> [e1: false], c2 -> [], d1 -> [], f2 -> []]"
      ]
     },
     "execution_count": 22,
     "metadata": {},
     "output_type": "execute_result"
    }
   ],
   "execution_count": 22
  },
  {
   "metadata": {},
   "cell_type": "markdown",
   "source": "3.1 Marke children of each state as invalid if the state is a chain start"
  },
  {
   "metadata": {
    "ExecuteTime": {
     "end_time": "2025-09-24T10:50:43.214333Z",
     "start_time": "2025-09-24T10:50:43.191371Z"
    }
   },
   "cell_type": "code",
   "source": [
    "mapping.markChildrenIfInvalid(chains)\n",
    "mapping"
   ],
   "outputs": [
    {
     "data": {
      "text/plain": [
       "parents:\n",
       "[b1 -> a1: false\n",
       ", c1 -> a1: false\n",
       ", f2 -> f1: true\n",
       ", e2 -> f1: true\n",
       ", a1 -> root: false\n",
       ", c2 -> e2: false\n",
       ", f1 -> e1: false\n",
       ", d1 -> b1: false\n",
       ", e1 -> c1: false\n",
       "]\n",
       "children:\n",
       "[a1 -> [b1: true, c1: true], f1 -> [f2: false, e2: true], root -> [a1: false], e2 -> [c2: false], e1 -> [f1: false], b1 -> [d1: false], c1 -> [e1: false], c2 -> [], d1 -> [], f2 -> []]"
      ]
     },
     "execution_count": 23,
     "metadata": {},
     "output_type": "execute_result"
    }
   ],
   "execution_count": 23
  },
  {
   "metadata": {},
   "cell_type": "markdown",
   "source": "add new states and add marked state from lookup table for parents and children"
  },
  {
   "metadata": {
    "ExecuteTime": {
     "end_time": "2025-09-24T10:50:43.264993Z",
     "start_time": "2025-09-24T10:50:43.231789Z"
    }
   },
   "cell_type": "code",
   "source": [
    "mapping.addSyntheticStates(chains)\n",
    "mapping"
   ],
   "outputs": [
    {
     "data": {
      "text/plain": [
       "parents:\n",
       "[b1 -> a1: false\n",
       ", c1 -> a1: false\n",
       ", f2 -> f1: true\n",
       ", e2 -> f1: true\n",
       ", a1 -> root: false\n",
       ", c2 -> e2: false\n",
       ", f1 -> e1: false\n",
       ", d1 -> b1: false\n",
       ", e1 -> c1: false\n",
       ", e2c2 -> f1: true\n",
       ", b1d1 -> a1: false\n",
       ", c1e1f1 -> a1: false\n",
       "]\n",
       "children:\n",
       "[a1 -> [b1: true, c1: true], f1 -> [f2: false, e2: true], root -> [a1: false], e2 -> [c2: false], e1 -> [f1: false], b1 -> [d1: false], c1 -> [e1: false], c2 -> [], d1 -> [], f2 -> [], e2c2 -> [], b1d1 -> [], c1e1f1 -> [f2: false, e2: true]]"
      ]
     },
     "execution_count": 24,
     "metadata": {},
     "output_type": "execute_result"
    }
   ],
   "execution_count": 24
  },
  {
   "metadata": {},
   "cell_type": "markdown",
   "source": "5. Remove all states which are part of chain"
  },
  {
   "metadata": {
    "ExecuteTime": {
     "end_time": "2025-09-24T10:50:43.320800Z",
     "start_time": "2025-09-24T10:50:43.289463Z"
    }
   },
   "cell_type": "code",
   "source": [
    "mapping.removeAllStatesWhichArePartOfChain(chains)\n",
    "mapping"
   ],
   "outputs": [
    {
     "data": {
      "text/plain": [
       "parents:\n",
       "[f2 -> f1: true\n",
       ", a1 -> root: false\n",
       ", e2c2 -> f1: true\n",
       ", b1d1 -> a1: false\n",
       ", c1e1f1 -> a1: false\n",
       "]\n",
       "children:\n",
       "[a1 -> [b1: true, c1: true], root -> [a1: false], f2 -> [], e2c2 -> [], b1d1 -> [], c1e1f1 -> [f2: false, e2: true]]"
      ]
     },
     "execution_count": 25,
     "metadata": {},
     "output_type": "execute_result"
    }
   ],
   "execution_count": 25
  },
  {
   "metadata": {},
   "cell_type": "markdown",
   "source": "6. update invalidated parents by takeing chain as parent where old parent is chain-end"
  },
  {
   "metadata": {
    "ExecuteTime": {
     "end_time": "2025-09-24T10:50:43.423789Z",
     "start_time": "2025-09-24T10:50:43.384263Z"
    }
   },
   "cell_type": "code",
   "source": [
    "mapping.updateParents(chains)\n",
    "mapping"
   ],
   "outputs": [
    {
     "data": {
      "text/plain": [
       "parents:\n",
       "[f2 -> c1e1f1: false\n",
       ", a1 -> root: false\n",
       ", e2c2 -> c1e1f1: false\n",
       ", b1d1 -> a1: false\n",
       ", c1e1f1 -> a1: false\n",
       "]\n",
       "children:\n",
       "[a1 -> [b1: true, c1: true], root -> [a1: false], f2 -> [], e2c2 -> [], b1d1 -> [], c1e1f1 -> [f2: false, e2: true]]"
      ]
     },
     "execution_count": 26,
     "metadata": {},
     "output_type": "execute_result"
    }
   ],
   "execution_count": 26
  },
  {
   "metadata": {},
   "cell_type": "markdown",
   "source": "6. update invalidated children by taking new chain state where children is start"
  },
  {
   "metadata": {
    "ExecuteTime": {
     "end_time": "2025-09-24T10:50:43.525260Z",
     "start_time": "2025-09-24T10:50:43.499363Z"
    }
   },
   "cell_type": "code",
   "source": [
    "mapping.updateChildren(chains)\n",
    "mapping"
   ],
   "outputs": [
    {
     "data": {
      "text/plain": [
       "parents:\n",
       "[f2 -> c1e1f1: false\n",
       ", a1 -> root: false\n",
       ", e2c2 -> c1e1f1: false\n",
       ", b1d1 -> a1: false\n",
       ", c1e1f1 -> a1: false\n",
       "]\n",
       "children:\n",
       "[a1 -> [b1d1: false, c1e1f1: false], root -> [a1: false], f2 -> [], e2c2 -> [], b1d1 -> [], c1e1f1 -> [f2: false, e2c2: false]]"
      ]
     },
     "execution_count": 27,
     "metadata": {},
     "output_type": "execute_result"
    }
   ],
   "execution_count": 27
  },
  {
   "metadata": {
    "ExecuteTime": {
     "end_time": "2025-09-24T10:50:43.613315Z",
     "start_time": "2025-09-24T10:50:43.578850Z"
    }
   },
   "cell_type": "code",
   "source": [
    "val newEpa = mapping.buildNewEpa(epa)\n",
    "newEpa"
   ],
   "outputs": [
    {
     "data": {
      "text/plain": [
       "simple2.xescompressed\n",
       "root,f2,a1,e2c2,b1d1,c1e1f1\n",
       "b1d1,c1e1f1,a1,f2,e2c2\n",
       "Transition(start=a1, activity=b1d1, end=b1d1),Transition(start=a1, activity=c1e1f1, end=c1e1f1),Transition(start=root, activity=a1, end=a1),Transition(start=c1e1f1, activity=f2, end=f2),Transition(start=c1e1f1, activity=e2c2, end=e2c2)\n",
       "\n",
       "\n"
      ]
     },
     "execution_count": 28,
     "metadata": {},
     "output_type": "execute_result"
    }
   ],
   "execution_count": 28
  },
  {
   "metadata": {
    "ExecuteTime": {
     "end_time": "2025-09-24T10:51:18.386879Z",
     "start_time": "2025-09-24T10:51:18.304968Z"
    }
   },
   "cell_type": "code",
   "source": "newEpa.states.map { it to (it as? State.PrefixState)?.from }",
   "outputs": [
    {
     "data": {
      "text/plain": [
       "[(root, null), (f2, c1e1f1), (a1, root), (e2c2, c1e1f1), (b1d1, a1), (c1e1f1, a1)]"
      ]
     },
     "execution_count": 30,
     "metadata": {},
     "output_type": "execute_result"
    }
   ],
   "execution_count": 30
  }
 ],
 "metadata": {
  "kernelspec": {
   "display_name": "Kotlin",
   "language": "kotlin",
   "name": "kotlin"
  },
  "language_info": {
   "name": "kotlin",
   "version": "2.2.20-Beta2",
   "mimetype": "text/x-kotlin",
   "file_extension": ".kt",
   "pygments_lexer": "kotlin",
   "codemirror_mode": "text/x-kotlin",
   "nbconvert_exporter": ""
  },
  "ktnbPluginMetadata": {
   "projectDependencies": [
    "epa-visualizer.epa.main"
   ],
   "projectLibraries": false
  }
 },
 "nbformat": 4,
 "nbformat_minor": 0
}
